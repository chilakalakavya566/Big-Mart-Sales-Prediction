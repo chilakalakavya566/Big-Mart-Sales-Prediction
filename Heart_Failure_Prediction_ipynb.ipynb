{
  "nbformat": 4,
  "nbformat_minor": 0,
  "metadata": {
    "colab": {
      "name": "Heart Failure Prediction . ipynb",
      "provenance": [],
      "collapsed_sections": [],
      "authorship_tag": "ABX9TyOHrszi01dihH5EEP9RhKk/",
      "include_colab_link": true
    },
    "kernelspec": {
      "name": "python3",
      "display_name": "Python 3"
    },
    "language_info": {
      "name": "python"
    }
  },
  "cells": [
    {
      "cell_type": "markdown",
      "metadata": {
        "id": "view-in-github",
        "colab_type": "text"
      },
      "source": [
        "<a href=\"https://colab.research.google.com/github/chilakalakavya566/Big-Mart-Sales-Prediction/blob/master/Heart_Failure_Prediction_ipynb.ipynb\" target=\"_parent\"><img src=\"https://colab.research.google.com/assets/colab-badge.svg\" alt=\"Open In Colab\"/></a>"
      ]
    },
    {
      "cell_type": "markdown",
      "source": [
        "Install Dependencies"
      ],
      "metadata": {
        "id": "FpKvSjX2k_ON"
      }
    },
    {
      "cell_type": "code",
      "source": [
        "!pip install dataprep"
      ],
      "metadata": {
        "colab": {
          "base_uri": "https://localhost:8080/"
        },
        "id": "yqGSWWIlRhLi",
        "outputId": "84ba985e-febf-476c-b52e-bb901450eefb"
      },
      "execution_count": 2,
      "outputs": [
        {
          "output_type": "stream",
          "name": "stdout",
          "text": [
            "Collecting dataprep\n",
            "  Downloading dataprep-0.4.2-py3-none-any.whl (3.7 MB)\n",
            "\u001b[K     |████████████████████████████████| 3.7 MB 5.0 MB/s \n",
            "\u001b[?25hCollecting flask_cors<4.0.0,>=3.0.10\n",
            "  Downloading Flask_Cors-3.0.10-py2.py3-none-any.whl (14 kB)\n",
            "Collecting wordcloud<2.0,>=1.8\n",
            "  Downloading wordcloud-1.8.1-cp37-cp37m-manylinux1_x86_64.whl (366 kB)\n",
            "\u001b[K     |████████████████████████████████| 366 kB 33.2 MB/s \n",
            "\u001b[?25hRequirement already satisfied: tqdm<5.0,>=4.48 in /usr/local/lib/python3.7/dist-packages (from dataprep) (4.63.0)\n",
            "Collecting metaphone<0.7,>=0.6\n",
            "  Downloading Metaphone-0.6.tar.gz (14 kB)\n",
            "Requirement already satisfied: numpy<2.0,>=1.21 in /usr/local/lib/python3.7/dist-packages (from dataprep) (1.21.5)\n",
            "Collecting nltk<4.0.0,>=3.6.7\n",
            "  Downloading nltk-3.7-py3-none-any.whl (1.5 MB)\n",
            "\u001b[K     |████████████████████████████████| 1.5 MB 32.1 MB/s \n",
            "\u001b[?25hRequirement already satisfied: scipy<2,>=1 in /usr/local/lib/python3.7/dist-packages (from dataprep) (1.4.1)\n",
            "Requirement already satisfied: ipywidgets<8.0,>=7.5 in /usr/local/lib/python3.7/dist-packages (from dataprep) (7.7.0)\n",
            "Collecting aiohttp<4.0,>=3.6\n",
            "  Downloading aiohttp-3.8.1-cp37-cp37m-manylinux_2_5_x86_64.manylinux1_x86_64.manylinux_2_12_x86_64.manylinux2010_x86_64.whl (1.1 MB)\n",
            "\u001b[K     |████████████████████████████████| 1.1 MB 40.0 MB/s \n",
            "\u001b[?25hCollecting dask[array,dataframe,delayed]<2022.0,>=2021.11\n",
            "  Downloading dask-2021.12.0-py3-none-any.whl (1.0 MB)\n",
            "\u001b[K     |████████████████████████████████| 1.0 MB 37.6 MB/s \n",
            "\u001b[?25hCollecting jinja2<4,>=3\n",
            "  Downloading Jinja2-3.0.3-py3-none-any.whl (133 kB)\n",
            "\u001b[K     |████████████████████████████████| 133 kB 39.4 MB/s \n",
            "\u001b[?25hCollecting levenshtein<0.17,>=0.16\n",
            "  Downloading Levenshtein-0.16.0-cp37-cp37m-manylinux_2_5_x86_64.manylinux1_x86_64.manylinux_2_12_x86_64.manylinux2010_x86_64.whl (110 kB)\n",
            "\u001b[K     |████████████████████████████████| 110 kB 18.1 MB/s \n",
            "\u001b[?25hCollecting varname<0.9.0,>=0.8.1\n",
            "  Downloading varname-0.8.3-py3-none-any.whl (21 kB)\n",
            "Collecting flask<3,>=2\n",
            "  Downloading Flask-2.0.3-py3-none-any.whl (95 kB)\n",
            "\u001b[K     |████████████████████████████████| 95 kB 2.4 MB/s \n",
            "\u001b[?25hRequirement already satisfied: pandas<2.0,>=1.1 in /usr/local/lib/python3.7/dist-packages (from dataprep) (1.3.5)\n",
            "Collecting jsonpath-ng<2.0,>=1.5\n",
            "  Downloading jsonpath_ng-1.5.3-py3-none-any.whl (29 kB)\n",
            "Collecting python-crfsuite<0.10.0,>=0.9.7\n",
            "  Downloading python_crfsuite-0.9.8-cp37-cp37m-manylinux_2_17_x86_64.manylinux2014_x86_64.whl (965 kB)\n",
            "\u001b[K     |████████████████████████████████| 965 kB 35.9 MB/s \n",
            "\u001b[?25hCollecting python-stdnum<2.0,>=1.16\n",
            "  Downloading python_stdnum-1.17-py2.py3-none-any.whl (943 kB)\n",
            "\u001b[K     |████████████████████████████████| 943 kB 44.4 MB/s \n",
            "\u001b[?25hRequirement already satisfied: bokeh<3,>=2 in /usr/local/lib/python3.7/dist-packages (from dataprep) (2.3.3)\n",
            "Collecting regex<2022.0.0,>=2021.8.3\n",
            "  Downloading regex-2021.11.10-cp37-cp37m-manylinux_2_17_x86_64.manylinux2014_x86_64.whl (749 kB)\n",
            "\u001b[K     |████████████████████████████████| 749 kB 45.2 MB/s \n",
            "\u001b[?25hCollecting pydantic<2.0,>=1.6\n",
            "  Downloading pydantic-1.9.0-cp37-cp37m-manylinux_2_17_x86_64.manylinux2014_x86_64.whl (10.9 MB)\n",
            "\u001b[K     |████████████████████████████████| 10.9 MB 41.1 MB/s \n",
            "\u001b[?25hCollecting frozenlist>=1.1.1\n",
            "  Downloading frozenlist-1.3.0-cp37-cp37m-manylinux_2_5_x86_64.manylinux1_x86_64.manylinux_2_17_x86_64.manylinux2014_x86_64.whl (144 kB)\n",
            "\u001b[K     |████████████████████████████████| 144 kB 64.0 MB/s \n",
            "\u001b[?25hCollecting multidict<7.0,>=4.5\n",
            "  Downloading multidict-6.0.2-cp37-cp37m-manylinux_2_17_x86_64.manylinux2014_x86_64.whl (94 kB)\n",
            "\u001b[K     |████████████████████████████████| 94 kB 3.2 MB/s \n",
            "\u001b[?25hRequirement already satisfied: charset-normalizer<3.0,>=2.0 in /usr/local/lib/python3.7/dist-packages (from aiohttp<4.0,>=3.6->dataprep) (2.0.12)\n",
            "Collecting yarl<2.0,>=1.0\n",
            "  Downloading yarl-1.7.2-cp37-cp37m-manylinux_2_5_x86_64.manylinux1_x86_64.manylinux_2_12_x86_64.manylinux2010_x86_64.whl (271 kB)\n",
            "\u001b[K     |████████████████████████████████| 271 kB 70.6 MB/s \n",
            "\u001b[?25hCollecting async-timeout<5.0,>=4.0.0a3\n",
            "  Downloading async_timeout-4.0.2-py3-none-any.whl (5.8 kB)\n",
            "Collecting aiosignal>=1.1.2\n",
            "  Downloading aiosignal-1.2.0-py3-none-any.whl (8.2 kB)\n",
            "Requirement already satisfied: attrs>=17.3.0 in /usr/local/lib/python3.7/dist-packages (from aiohttp<4.0,>=3.6->dataprep) (21.4.0)\n",
            "Collecting asynctest==0.13.0\n",
            "  Downloading asynctest-0.13.0-py3-none-any.whl (26 kB)\n",
            "Requirement already satisfied: typing-extensions>=3.7.4 in /usr/local/lib/python3.7/dist-packages (from aiohttp<4.0,>=3.6->dataprep) (3.10.0.2)\n",
            "Requirement already satisfied: pillow>=7.1.0 in /usr/local/lib/python3.7/dist-packages (from bokeh<3,>=2->dataprep) (7.1.2)\n",
            "Requirement already satisfied: python-dateutil>=2.1 in /usr/local/lib/python3.7/dist-packages (from bokeh<3,>=2->dataprep) (2.8.2)\n",
            "Requirement already satisfied: PyYAML>=3.10 in /usr/local/lib/python3.7/dist-packages (from bokeh<3,>=2->dataprep) (3.13)\n",
            "Requirement already satisfied: packaging>=16.8 in /usr/local/lib/python3.7/dist-packages (from bokeh<3,>=2->dataprep) (21.3)\n",
            "Requirement already satisfied: tornado>=5.1 in /usr/local/lib/python3.7/dist-packages (from bokeh<3,>=2->dataprep) (5.1.1)\n",
            "Collecting fsspec>=0.6.0\n",
            "  Downloading fsspec-2022.2.0-py3-none-any.whl (134 kB)\n",
            "\u001b[K     |████████████████████████████████| 134 kB 73.4 MB/s \n",
            "\u001b[?25hCollecting partd>=0.3.10\n",
            "  Downloading partd-1.2.0-py3-none-any.whl (19 kB)\n",
            "Requirement already satisfied: cloudpickle>=1.1.1 in /usr/local/lib/python3.7/dist-packages (from dask[array,dataframe,delayed]<2022.0,>=2021.11->dataprep) (1.3.0)\n",
            "Requirement already satisfied: toolz>=0.8.2 in /usr/local/lib/python3.7/dist-packages (from dask[array,dataframe,delayed]<2022.0,>=2021.11->dataprep) (0.11.2)\n",
            "Collecting itsdangerous>=2.0\n",
            "  Downloading itsdangerous-2.1.1-py3-none-any.whl (15 kB)\n",
            "Requirement already satisfied: click>=7.1.2 in /usr/local/lib/python3.7/dist-packages (from flask<3,>=2->dataprep) (7.1.2)\n",
            "Collecting Werkzeug>=2.0\n",
            "  Downloading Werkzeug-2.0.3-py3-none-any.whl (289 kB)\n",
            "\u001b[K     |████████████████████████████████| 289 kB 45.0 MB/s \n",
            "\u001b[?25hRequirement already satisfied: Six in /usr/local/lib/python3.7/dist-packages (from flask_cors<4.0.0,>=3.0.10->dataprep) (1.15.0)\n",
            "Requirement already satisfied: ipython-genutils~=0.2.0 in /usr/local/lib/python3.7/dist-packages (from ipywidgets<8.0,>=7.5->dataprep) (0.2.0)\n",
            "Requirement already satisfied: jupyterlab-widgets>=1.0.0 in /usr/local/lib/python3.7/dist-packages (from ipywidgets<8.0,>=7.5->dataprep) (1.1.0)\n",
            "Requirement already satisfied: widgetsnbextension~=3.6.0 in /usr/local/lib/python3.7/dist-packages (from ipywidgets<8.0,>=7.5->dataprep) (3.6.0)\n",
            "Requirement already satisfied: ipykernel>=4.5.1 in /usr/local/lib/python3.7/dist-packages (from ipywidgets<8.0,>=7.5->dataprep) (4.10.1)\n",
            "Requirement already satisfied: traitlets>=4.3.1 in /usr/local/lib/python3.7/dist-packages (from ipywidgets<8.0,>=7.5->dataprep) (5.1.1)\n",
            "Requirement already satisfied: nbformat>=4.2.0 in /usr/local/lib/python3.7/dist-packages (from ipywidgets<8.0,>=7.5->dataprep) (5.2.0)\n",
            "Requirement already satisfied: ipython>=4.0.0 in /usr/local/lib/python3.7/dist-packages (from ipywidgets<8.0,>=7.5->dataprep) (5.5.0)\n",
            "Requirement already satisfied: jupyter-client in /usr/local/lib/python3.7/dist-packages (from ipykernel>=4.5.1->ipywidgets<8.0,>=7.5->dataprep) (5.3.5)\n",
            "Requirement already satisfied: prompt-toolkit<2.0.0,>=1.0.4 in /usr/local/lib/python3.7/dist-packages (from ipython>=4.0.0->ipywidgets<8.0,>=7.5->dataprep) (1.0.18)\n",
            "Requirement already satisfied: pickleshare in /usr/local/lib/python3.7/dist-packages (from ipython>=4.0.0->ipywidgets<8.0,>=7.5->dataprep) (0.7.5)\n",
            "Requirement already satisfied: pexpect in /usr/local/lib/python3.7/dist-packages (from ipython>=4.0.0->ipywidgets<8.0,>=7.5->dataprep) (4.8.0)\n",
            "Requirement already satisfied: simplegeneric>0.8 in /usr/local/lib/python3.7/dist-packages (from ipython>=4.0.0->ipywidgets<8.0,>=7.5->dataprep) (0.8.1)\n",
            "Requirement already satisfied: decorator in /usr/local/lib/python3.7/dist-packages (from ipython>=4.0.0->ipywidgets<8.0,>=7.5->dataprep) (4.4.2)\n",
            "Requirement already satisfied: setuptools>=18.5 in /usr/local/lib/python3.7/dist-packages (from ipython>=4.0.0->ipywidgets<8.0,>=7.5->dataprep) (57.4.0)\n",
            "Requirement already satisfied: pygments in /usr/local/lib/python3.7/dist-packages (from ipython>=4.0.0->ipywidgets<8.0,>=7.5->dataprep) (2.6.1)\n",
            "Requirement already satisfied: MarkupSafe>=2.0 in /usr/local/lib/python3.7/dist-packages (from jinja2<4,>=3->dataprep) (2.0.1)\n",
            "Collecting ply\n",
            "  Downloading ply-3.11-py2.py3-none-any.whl (49 kB)\n",
            "\u001b[K     |████████████████████████████████| 49 kB 4.8 MB/s \n",
            "\u001b[?25hCollecting rapidfuzz<1.9,>=1.8.2\n",
            "  Downloading rapidfuzz-1.8.3-cp37-cp37m-manylinux_2_12_x86_64.manylinux2010_x86_64.whl (854 kB)\n",
            "\u001b[K     |████████████████████████████████| 854 kB 52.6 MB/s \n",
            "\u001b[?25hRequirement already satisfied: jupyter-core in /usr/local/lib/python3.7/dist-packages (from nbformat>=4.2.0->ipywidgets<8.0,>=7.5->dataprep) (4.9.2)\n",
            "Requirement already satisfied: jsonschema!=2.5.0,>=2.4 in /usr/local/lib/python3.7/dist-packages (from nbformat>=4.2.0->ipywidgets<8.0,>=7.5->dataprep) (4.3.3)\n",
            "Requirement already satisfied: pyrsistent!=0.17.0,!=0.17.1,!=0.17.2,>=0.14.0 in /usr/local/lib/python3.7/dist-packages (from jsonschema!=2.5.0,>=2.4->nbformat>=4.2.0->ipywidgets<8.0,>=7.5->dataprep) (0.18.1)\n",
            "Requirement already satisfied: importlib-resources>=1.4.0 in /usr/local/lib/python3.7/dist-packages (from jsonschema!=2.5.0,>=2.4->nbformat>=4.2.0->ipywidgets<8.0,>=7.5->dataprep) (5.4.0)\n",
            "Requirement already satisfied: importlib-metadata in /usr/local/lib/python3.7/dist-packages (from jsonschema!=2.5.0,>=2.4->nbformat>=4.2.0->ipywidgets<8.0,>=7.5->dataprep) (4.11.3)\n",
            "Requirement already satisfied: zipp>=3.1.0 in /usr/local/lib/python3.7/dist-packages (from importlib-resources>=1.4.0->jsonschema!=2.5.0,>=2.4->nbformat>=4.2.0->ipywidgets<8.0,>=7.5->dataprep) (3.7.0)\n",
            "Requirement already satisfied: joblib in /usr/local/lib/python3.7/dist-packages (from nltk<4.0.0,>=3.6.7->dataprep) (1.1.0)\n",
            "Requirement already satisfied: pyparsing!=3.0.5,>=2.0.2 in /usr/local/lib/python3.7/dist-packages (from packaging>=16.8->bokeh<3,>=2->dataprep) (3.0.7)\n",
            "Requirement already satisfied: pytz>=2017.3 in /usr/local/lib/python3.7/dist-packages (from pandas<2.0,>=1.1->dataprep) (2018.9)\n",
            "Collecting locket\n",
            "  Downloading locket-0.2.1-py2.py3-none-any.whl (4.1 kB)\n",
            "Requirement already satisfied: wcwidth in /usr/local/lib/python3.7/dist-packages (from prompt-toolkit<2.0.0,>=1.0.4->ipython>=4.0.0->ipywidgets<8.0,>=7.5->dataprep) (0.2.5)\n",
            "Collecting asttokens<3.0.0,>=2.0.0\n",
            "  Downloading asttokens-2.0.5-py2.py3-none-any.whl (20 kB)\n",
            "Collecting pure_eval<1.0.0\n",
            "  Downloading pure_eval-0.2.2-py3-none-any.whl (11 kB)\n",
            "Collecting executing<0.9.0,>=0.8.3\n",
            "  Downloading executing-0.8.3-py2.py3-none-any.whl (16 kB)\n",
            "Requirement already satisfied: notebook>=4.4.1 in /usr/local/lib/python3.7/dist-packages (from widgetsnbextension~=3.6.0->ipywidgets<8.0,>=7.5->dataprep) (5.3.1)\n",
            "Requirement already satisfied: terminado>=0.8.1 in /usr/local/lib/python3.7/dist-packages (from notebook>=4.4.1->widgetsnbextension~=3.6.0->ipywidgets<8.0,>=7.5->dataprep) (0.13.3)\n",
            "Requirement already satisfied: Send2Trash in /usr/local/lib/python3.7/dist-packages (from notebook>=4.4.1->widgetsnbextension~=3.6.0->ipywidgets<8.0,>=7.5->dataprep) (1.8.0)\n",
            "Requirement already satisfied: nbconvert in /usr/local/lib/python3.7/dist-packages (from notebook>=4.4.1->widgetsnbextension~=3.6.0->ipywidgets<8.0,>=7.5->dataprep) (5.6.1)\n",
            "Requirement already satisfied: pyzmq>=13 in /usr/local/lib/python3.7/dist-packages (from jupyter-client->ipykernel>=4.5.1->ipywidgets<8.0,>=7.5->dataprep) (22.3.0)\n",
            "Requirement already satisfied: ptyprocess in /usr/local/lib/python3.7/dist-packages (from terminado>=0.8.1->notebook>=4.4.1->widgetsnbextension~=3.6.0->ipywidgets<8.0,>=7.5->dataprep) (0.7.0)\n",
            "Requirement already satisfied: matplotlib in /usr/local/lib/python3.7/dist-packages (from wordcloud<2.0,>=1.8->dataprep) (3.2.2)\n",
            "Requirement already satisfied: idna>=2.0 in /usr/local/lib/python3.7/dist-packages (from yarl<2.0,>=1.0->aiohttp<4.0,>=3.6->dataprep) (2.10)\n",
            "Requirement already satisfied: cycler>=0.10 in /usr/local/lib/python3.7/dist-packages (from matplotlib->wordcloud<2.0,>=1.8->dataprep) (0.11.0)\n",
            "Requirement already satisfied: kiwisolver>=1.0.1 in /usr/local/lib/python3.7/dist-packages (from matplotlib->wordcloud<2.0,>=1.8->dataprep) (1.4.0)\n",
            "Requirement already satisfied: testpath in /usr/local/lib/python3.7/dist-packages (from nbconvert->notebook>=4.4.1->widgetsnbextension~=3.6.0->ipywidgets<8.0,>=7.5->dataprep) (0.6.0)\n",
            "Requirement already satisfied: pandocfilters>=1.4.1 in /usr/local/lib/python3.7/dist-packages (from nbconvert->notebook>=4.4.1->widgetsnbextension~=3.6.0->ipywidgets<8.0,>=7.5->dataprep) (1.5.0)\n",
            "Requirement already satisfied: defusedxml in /usr/local/lib/python3.7/dist-packages (from nbconvert->notebook>=4.4.1->widgetsnbextension~=3.6.0->ipywidgets<8.0,>=7.5->dataprep) (0.7.1)\n",
            "Requirement already satisfied: mistune<2,>=0.8.1 in /usr/local/lib/python3.7/dist-packages (from nbconvert->notebook>=4.4.1->widgetsnbextension~=3.6.0->ipywidgets<8.0,>=7.5->dataprep) (0.8.4)\n",
            "Requirement already satisfied: entrypoints>=0.2.2 in /usr/local/lib/python3.7/dist-packages (from nbconvert->notebook>=4.4.1->widgetsnbextension~=3.6.0->ipywidgets<8.0,>=7.5->dataprep) (0.4)\n",
            "Requirement already satisfied: bleach in /usr/local/lib/python3.7/dist-packages (from nbconvert->notebook>=4.4.1->widgetsnbextension~=3.6.0->ipywidgets<8.0,>=7.5->dataprep) (4.1.0)\n",
            "Requirement already satisfied: webencodings in /usr/local/lib/python3.7/dist-packages (from bleach->nbconvert->notebook>=4.4.1->widgetsnbextension~=3.6.0->ipywidgets<8.0,>=7.5->dataprep) (0.5.1)\n",
            "Building wheels for collected packages: metaphone\n",
            "  Building wheel for metaphone (setup.py) ... \u001b[?25l\u001b[?25hdone\n",
            "  Created wheel for metaphone: filename=Metaphone-0.6-py3-none-any.whl size=13918 sha256=ad4f1c209e7d33bdf07561e5f1c7f319eebe210173bd3bb1b250b7a5de4511f8\n",
            "  Stored in directory: /root/.cache/pip/wheels/1d/a8/cb/6f8902aa5457bd71344e00665c230e9c45255b3f57f2194a0f\n",
            "Successfully built metaphone\n",
            "Installing collected packages: jinja2, locket, Werkzeug, partd, multidict, itsdangerous, fsspec, frozenlist, yarl, regex, rapidfuzz, pure-eval, ply, flask, executing, dask, asynctest, async-timeout, asttokens, aiosignal, wordcloud, varname, python-stdnum, python-crfsuite, pydantic, nltk, metaphone, levenshtein, jsonpath-ng, flask-cors, aiohttp, dataprep\n",
            "  Attempting uninstall: jinja2\n",
            "    Found existing installation: Jinja2 2.11.3\n",
            "    Uninstalling Jinja2-2.11.3:\n",
            "      Successfully uninstalled Jinja2-2.11.3\n",
            "  Attempting uninstall: Werkzeug\n",
            "    Found existing installation: Werkzeug 1.0.1\n",
            "    Uninstalling Werkzeug-1.0.1:\n",
            "      Successfully uninstalled Werkzeug-1.0.1\n",
            "  Attempting uninstall: itsdangerous\n",
            "    Found existing installation: itsdangerous 1.1.0\n",
            "    Uninstalling itsdangerous-1.1.0:\n",
            "      Successfully uninstalled itsdangerous-1.1.0\n",
            "  Attempting uninstall: regex\n",
            "    Found existing installation: regex 2019.12.20\n",
            "    Uninstalling regex-2019.12.20:\n",
            "      Successfully uninstalled regex-2019.12.20\n",
            "  Attempting uninstall: flask\n",
            "    Found existing installation: Flask 1.1.4\n",
            "    Uninstalling Flask-1.1.4:\n",
            "      Successfully uninstalled Flask-1.1.4\n",
            "  Attempting uninstall: dask\n",
            "    Found existing installation: dask 2.12.0\n",
            "    Uninstalling dask-2.12.0:\n",
            "      Successfully uninstalled dask-2.12.0\n",
            "  Attempting uninstall: wordcloud\n",
            "    Found existing installation: wordcloud 1.5.0\n",
            "    Uninstalling wordcloud-1.5.0:\n",
            "      Successfully uninstalled wordcloud-1.5.0\n",
            "  Attempting uninstall: nltk\n",
            "    Found existing installation: nltk 3.2.5\n",
            "    Uninstalling nltk-3.2.5:\n",
            "      Successfully uninstalled nltk-3.2.5\n",
            "\u001b[31mERROR: pip's dependency resolver does not currently take into account all the packages that are installed. This behaviour is the source of the following dependency conflicts.\n",
            "datascience 0.10.6 requires folium==0.2.1, but you have folium 0.8.3 which is incompatible.\u001b[0m\n",
            "Successfully installed Werkzeug-2.0.3 aiohttp-3.8.1 aiosignal-1.2.0 asttokens-2.0.5 async-timeout-4.0.2 asynctest-0.13.0 dask-2021.12.0 dataprep-0.4.2 executing-0.8.3 flask-2.0.3 flask-cors-3.0.10 frozenlist-1.3.0 fsspec-2022.2.0 itsdangerous-2.1.1 jinja2-3.0.3 jsonpath-ng-1.5.3 levenshtein-0.16.0 locket-0.2.1 metaphone-0.6 multidict-6.0.2 nltk-3.7 partd-1.2.0 ply-3.11 pure-eval-0.2.2 pydantic-1.9.0 python-crfsuite-0.9.8 python-stdnum-1.17 rapidfuzz-1.8.3 regex-2021.11.10 varname-0.8.3 wordcloud-1.8.1 yarl-1.7.2\n"
          ]
        }
      ]
    },
    {
      "cell_type": "code",
      "source": [
        "import pandas as pd\n",
        "import csv\n",
        "import numpy as np\n",
        "import tensorflow as tf\n",
        "import matplotlib.pyplot as plt\n",
        "from sklearn import svm, datasets\n",
        "from sklearn.linear_model import LogisticRegression\n",
        "from xgboost import XGBClassifier\n",
        "from sklearn.ensemble import RandomForestClassifier\n",
        "from sklearn.tree import DecisionTreeClassifier\n",
        "from sklearn.neighbors import KNeighborsClassifier\n",
        "from sklearn.preprocessing import StandardScaler\n",
        "from sklearn.model_selection import train_test_split, GridSearchCV, RandomizedSearchCV\n",
        "from sklearn.metrics import classification_report, confusion_matrix, accuracy_score\n",
        "from dataprep.eda import plot"
      ],
      "metadata": {
        "id": "uvdW9HXTLuEX"
      },
      "execution_count": 3,
      "outputs": []
    },
    {
      "cell_type": "code",
      "source": [
        "filename = 'processed.cleveland.data'\n",
        "raw_data = open(filename, 'rt')\n",
        "reader = csv.reader(raw_data, delimiter=',', quoting=csv.QUOTE_NONE)\n",
        "x = list(reader)\n",
        "heart_data_1 = np.array(x)\n",
        "print(heart_data_1.shape)"
      ],
      "metadata": {
        "colab": {
          "base_uri": "https://localhost:8080/"
        },
        "id": "MPCY_1_tLuHc",
        "outputId": "9231e0f8-d69f-40b7-823b-485e9de11eee"
      },
      "execution_count": null,
      "outputs": [
        {
          "output_type": "stream",
          "name": "stdout",
          "text": [
            "(303, 14)\n"
          ]
        }
      ]
    },
    {
      "cell_type": "code",
      "source": [
        "heart_data_1"
      ],
      "metadata": {
        "colab": {
          "base_uri": "https://localhost:8080/"
        },
        "id": "aZITlvAHludo",
        "outputId": "0205b2bb-9d3d-4617-9922-549ccd3aff1f"
      },
      "execution_count": null,
      "outputs": [
        {
          "output_type": "execute_result",
          "data": {
            "text/plain": [
              "array([['63.0', '1.0', '1.0', ..., '0.0', '6.0', '0'],\n",
              "       ['67.0', '1.0', '4.0', ..., '3.0', '3.0', '2'],\n",
              "       ['67.0', '1.0', '4.0', ..., '2.0', '7.0', '1'],\n",
              "       ...,\n",
              "       ['57.0', '1.0', '4.0', ..., '1.0', '7.0', '3'],\n",
              "       ['57.0', '0.0', '2.0', ..., '1.0', '3.0', '1'],\n",
              "       ['38.0', '1.0', '3.0', ..., '?', '3.0', '0']], dtype='<U5')"
            ]
          },
          "metadata": {},
          "execution_count": 11
        }
      ]
    },
    {
      "cell_type": "code",
      "source": [
        "filename = 'processed.hungarian.data'\n",
        "raw_data = open(filename, 'rt')\n",
        "reader = csv.reader(raw_data, delimiter=',', quoting=csv.QUOTE_NONE)\n",
        "x = list(reader)\n",
        "heart_data_2 = np.array(x)\n",
        "print(heart_data_2.shape)"
      ],
      "metadata": {
        "colab": {
          "base_uri": "https://localhost:8080/"
        },
        "id": "90sn94tzXoIZ",
        "outputId": "ae7b50a3-3b8a-49c0-80c6-5b5e81995864"
      },
      "execution_count": null,
      "outputs": [
        {
          "output_type": "stream",
          "name": "stdout",
          "text": [
            "(294, 14)\n"
          ]
        }
      ]
    },
    {
      "cell_type": "code",
      "source": [
        "filename = 'processed.switzerland.data'\n",
        "raw_data = open(filename, 'rt')\n",
        "reader = csv.reader(raw_data, delimiter=',', quoting=csv.QUOTE_NONE)\n",
        "x = list(reader)\n",
        "heart_data_3 = np.array(x)\n",
        "print(heart_data_3.shape)"
      ],
      "metadata": {
        "colab": {
          "base_uri": "https://localhost:8080/"
        },
        "id": "rbLCjfXzX7Cf",
        "outputId": "1e82d790-b416-4c9d-b1f2-e40632f7e874"
      },
      "execution_count": null,
      "outputs": [
        {
          "output_type": "stream",
          "name": "stdout",
          "text": [
            "(123, 14)\n"
          ]
        }
      ]
    },
    {
      "cell_type": "code",
      "source": [
        "filename = 'processed.va.data'\n",
        "raw_data = open(filename, 'rt')\n",
        "reader = csv.reader(raw_data, delimiter=',', quoting=csv.QUOTE_NONE)\n",
        "x = list(reader)\n",
        "heart_data_4 = np.array(x)\n",
        "print(heart_data_4.shape)"
      ],
      "metadata": {
        "colab": {
          "base_uri": "https://localhost:8080/"
        },
        "id": "PD_S4G4tYMqY",
        "outputId": "900aefe5-9959-46e7-98eb-44dbd773afd3"
      },
      "execution_count": null,
      "outputs": [
        {
          "output_type": "stream",
          "name": "stdout",
          "text": [
            "(200, 14)\n"
          ]
        }
      ]
    },
    {
      "cell_type": "code",
      "source": [
        "data=pd.read_csv(\"heart.csv\")"
      ],
      "metadata": {
        "id": "p6PeEAV2OVDt"
      },
      "execution_count": 4,
      "outputs": []
    },
    {
      "cell_type": "code",
      "source": [
        "data['target'].value_counts()"
      ],
      "metadata": {
        "colab": {
          "base_uri": "https://localhost:8080/"
        },
        "id": "yStsRrNil9Y2",
        "outputId": "d03b698f-e4f2-452a-8940-e5930334c0c7"
      },
      "execution_count": 5,
      "outputs": [
        {
          "output_type": "execute_result",
          "data": {
            "text/plain": [
              "1    526\n",
              "0    499\n",
              "Name: target, dtype: int64"
            ]
          },
          "metadata": {},
          "execution_count": 5
        }
      ]
    },
    {
      "cell_type": "code",
      "source": [
        "from google.colab import drive\n",
        "drive.mount('/content/drive')\n"
      ],
      "metadata": {
        "colab": {
          "base_uri": "https://localhost:8080/"
        },
        "id": "fjPnuD5s8Kla",
        "outputId": "6568efd3-bf5c-435d-c3f2-0b04ee395980"
      },
      "execution_count": null,
      "outputs": [
        {
          "output_type": "stream",
          "name": "stdout",
          "text": [
            "Mounted at /content/drive\n"
          ]
        }
      ]
    },
    {
      "cell_type": "code",
      "source": [
        "y = data['target'].copy()\n",
        "#y = np.array(y, dtype='float32')\n",
        "x = data.drop('target', axis=1).copy()\n",
        "x = np.array(x, dtype='float32')"
      ],
      "metadata": {
        "id": "xWxsBgS6mkGC"
      },
      "execution_count": 6,
      "outputs": []
    },
    {
      "cell_type": "code",
      "source": [
        "print(x)"
      ],
      "metadata": {
        "colab": {
          "base_uri": "https://localhost:8080/"
        },
        "id": "oRFF0vfCnClf",
        "outputId": "6452cdfc-5aec-4883-bd31-57e04e3cbdba"
      },
      "execution_count": 7,
      "outputs": [
        {
          "output_type": "stream",
          "name": "stdout",
          "text": [
            "[[52.  1.  0. ...  2.  2.  3.]\n",
            " [53.  1.  0. ...  0.  0.  3.]\n",
            " [70.  1.  0. ...  0.  0.  3.]\n",
            " ...\n",
            " [47.  1.  0. ...  1.  1.  2.]\n",
            " [50.  0.  0. ...  2.  0.  2.]\n",
            " [54.  1.  0. ...  1.  1.  3.]]\n"
          ]
        }
      ]
    },
    {
      "cell_type": "code",
      "source": [
        "print(y)"
      ],
      "metadata": {
        "colab": {
          "base_uri": "https://localhost:8080/"
        },
        "id": "p6VtI13xnELi",
        "outputId": "467f6872-bed4-41af-c046-055b63d8768d"
      },
      "execution_count": 8,
      "outputs": [
        {
          "output_type": "stream",
          "name": "stdout",
          "text": [
            "0       0\n",
            "1       0\n",
            "2       0\n",
            "3       0\n",
            "4       0\n",
            "       ..\n",
            "1020    1\n",
            "1021    0\n",
            "1022    0\n",
            "1023    1\n",
            "1024    0\n",
            "Name: target, Length: 1025, dtype: int64\n"
          ]
        }
      ]
    },
    {
      "cell_type": "code",
      "source": [
        "std_scaler = StandardScaler()"
      ],
      "metadata": {
        "id": "HlIDSOUtnFJs"
      },
      "execution_count": 9,
      "outputs": []
    },
    {
      "cell_type": "code",
      "source": [
        "(trainX, testX, trainY, testY) = train_test_split(x,\n",
        "    y, test_size=0.3, random_state=101)\n",
        "\n",
        "trainX=std_scaler.fit_transform(trainX)\n",
        "testX=std_scaler.transform(testX)"
      ],
      "metadata": {
        "id": "0AcfNW1pnJTU"
      },
      "execution_count": 10,
      "outputs": []
    },
    {
      "cell_type": "code",
      "source": [
        "parameters = {'kernel':('linear', 'rbf'), 'C':[1.0, 10.0, 100.0, 1000.0],\n",
        "              'gamma':[1,0.1,0.01]}"
      ],
      "metadata": {
        "id": "2pH9fqbQnQZQ"
      },
      "execution_count": 11,
      "outputs": []
    },
    {
      "cell_type": "code",
      "source": [
        "model = svm.SVC()\n",
        "grid_model = GridSearchCV(model, parameters, verbose=2)"
      ],
      "metadata": {
        "id": "3grA-HX4nUjJ"
      },
      "execution_count": 12,
      "outputs": []
    },
    {
      "cell_type": "code",
      "source": [
        "grid_model.fit(trainX, trainY)"
      ],
      "metadata": {
        "colab": {
          "base_uri": "https://localhost:8080/"
        },
        "id": "7ZoQRBoLnZ4L",
        "outputId": "c4f2e9c0-e576-4441-ceb2-3d079ef91904"
      },
      "execution_count": 13,
      "outputs": [
        {
          "output_type": "stream",
          "name": "stdout",
          "text": [
            "Fitting 5 folds for each of 24 candidates, totalling 120 fits\n",
            "[CV] END ......................C=1.0, gamma=1, kernel=linear; total time=   0.0s\n",
            "[CV] END ......................C=1.0, gamma=1, kernel=linear; total time=   0.0s\n",
            "[CV] END ......................C=1.0, gamma=1, kernel=linear; total time=   0.0s\n",
            "[CV] END ......................C=1.0, gamma=1, kernel=linear; total time=   0.0s\n",
            "[CV] END ......................C=1.0, gamma=1, kernel=linear; total time=   0.0s\n",
            "[CV] END .........................C=1.0, gamma=1, kernel=rbf; total time=   0.0s\n",
            "[CV] END .........................C=1.0, gamma=1, kernel=rbf; total time=   0.0s\n",
            "[CV] END .........................C=1.0, gamma=1, kernel=rbf; total time=   0.0s\n",
            "[CV] END .........................C=1.0, gamma=1, kernel=rbf; total time=   0.0s\n",
            "[CV] END .........................C=1.0, gamma=1, kernel=rbf; total time=   0.0s\n",
            "[CV] END ....................C=1.0, gamma=0.1, kernel=linear; total time=   0.0s\n",
            "[CV] END ....................C=1.0, gamma=0.1, kernel=linear; total time=   0.0s\n",
            "[CV] END ....................C=1.0, gamma=0.1, kernel=linear; total time=   0.0s\n",
            "[CV] END ....................C=1.0, gamma=0.1, kernel=linear; total time=   0.0s\n",
            "[CV] END ....................C=1.0, gamma=0.1, kernel=linear; total time=   0.0s\n",
            "[CV] END .......................C=1.0, gamma=0.1, kernel=rbf; total time=   0.0s\n",
            "[CV] END .......................C=1.0, gamma=0.1, kernel=rbf; total time=   0.0s\n",
            "[CV] END .......................C=1.0, gamma=0.1, kernel=rbf; total time=   0.0s\n",
            "[CV] END .......................C=1.0, gamma=0.1, kernel=rbf; total time=   0.0s\n",
            "[CV] END .......................C=1.0, gamma=0.1, kernel=rbf; total time=   0.0s\n",
            "[CV] END ...................C=1.0, gamma=0.01, kernel=linear; total time=   0.0s\n",
            "[CV] END ...................C=1.0, gamma=0.01, kernel=linear; total time=   0.0s\n",
            "[CV] END ...................C=1.0, gamma=0.01, kernel=linear; total time=   0.0s\n",
            "[CV] END ...................C=1.0, gamma=0.01, kernel=linear; total time=   0.0s\n",
            "[CV] END ...................C=1.0, gamma=0.01, kernel=linear; total time=   0.0s\n",
            "[CV] END ......................C=1.0, gamma=0.01, kernel=rbf; total time=   0.0s\n",
            "[CV] END ......................C=1.0, gamma=0.01, kernel=rbf; total time=   0.0s\n",
            "[CV] END ......................C=1.0, gamma=0.01, kernel=rbf; total time=   0.0s\n",
            "[CV] END ......................C=1.0, gamma=0.01, kernel=rbf; total time=   0.0s\n",
            "[CV] END ......................C=1.0, gamma=0.01, kernel=rbf; total time=   0.0s\n",
            "[CV] END .....................C=10.0, gamma=1, kernel=linear; total time=   0.1s\n",
            "[CV] END .....................C=10.0, gamma=1, kernel=linear; total time=   0.1s\n",
            "[CV] END .....................C=10.0, gamma=1, kernel=linear; total time=   0.1s\n",
            "[CV] END .....................C=10.0, gamma=1, kernel=linear; total time=   0.1s\n",
            "[CV] END .....................C=10.0, gamma=1, kernel=linear; total time=   0.1s\n",
            "[CV] END ........................C=10.0, gamma=1, kernel=rbf; total time=   0.0s\n",
            "[CV] END ........................C=10.0, gamma=1, kernel=rbf; total time=   0.0s\n",
            "[CV] END ........................C=10.0, gamma=1, kernel=rbf; total time=   0.0s\n",
            "[CV] END ........................C=10.0, gamma=1, kernel=rbf; total time=   0.0s\n",
            "[CV] END ........................C=10.0, gamma=1, kernel=rbf; total time=   0.0s\n",
            "[CV] END ...................C=10.0, gamma=0.1, kernel=linear; total time=   0.1s\n",
            "[CV] END ...................C=10.0, gamma=0.1, kernel=linear; total time=   0.1s\n",
            "[CV] END ...................C=10.0, gamma=0.1, kernel=linear; total time=   0.1s\n",
            "[CV] END ...................C=10.0, gamma=0.1, kernel=linear; total time=   0.1s\n",
            "[CV] END ...................C=10.0, gamma=0.1, kernel=linear; total time=   0.1s\n",
            "[CV] END ......................C=10.0, gamma=0.1, kernel=rbf; total time=   0.0s\n",
            "[CV] END ......................C=10.0, gamma=0.1, kernel=rbf; total time=   0.0s\n",
            "[CV] END ......................C=10.0, gamma=0.1, kernel=rbf; total time=   0.0s\n",
            "[CV] END ......................C=10.0, gamma=0.1, kernel=rbf; total time=   0.0s\n",
            "[CV] END ......................C=10.0, gamma=0.1, kernel=rbf; total time=   0.0s\n",
            "[CV] END ..................C=10.0, gamma=0.01, kernel=linear; total time=   0.1s\n",
            "[CV] END ..................C=10.0, gamma=0.01, kernel=linear; total time=   0.1s\n",
            "[CV] END ..................C=10.0, gamma=0.01, kernel=linear; total time=   0.1s\n",
            "[CV] END ..................C=10.0, gamma=0.01, kernel=linear; total time=   0.1s\n",
            "[CV] END ..................C=10.0, gamma=0.01, kernel=linear; total time=   0.1s\n",
            "[CV] END .....................C=10.0, gamma=0.01, kernel=rbf; total time=   0.0s\n",
            "[CV] END .....................C=10.0, gamma=0.01, kernel=rbf; total time=   0.0s\n",
            "[CV] END .....................C=10.0, gamma=0.01, kernel=rbf; total time=   0.0s\n",
            "[CV] END .....................C=10.0, gamma=0.01, kernel=rbf; total time=   0.0s\n",
            "[CV] END .....................C=10.0, gamma=0.01, kernel=rbf; total time=   0.0s\n",
            "[CV] END ....................C=100.0, gamma=1, kernel=linear; total time=   1.2s\n",
            "[CV] END ....................C=100.0, gamma=1, kernel=linear; total time=   0.6s\n",
            "[CV] END ....................C=100.0, gamma=1, kernel=linear; total time=   0.8s\n",
            "[CV] END ....................C=100.0, gamma=1, kernel=linear; total time=   1.6s\n",
            "[CV] END ....................C=100.0, gamma=1, kernel=linear; total time=   1.0s\n",
            "[CV] END .......................C=100.0, gamma=1, kernel=rbf; total time=   0.0s\n",
            "[CV] END .......................C=100.0, gamma=1, kernel=rbf; total time=   0.0s\n",
            "[CV] END .......................C=100.0, gamma=1, kernel=rbf; total time=   0.0s\n",
            "[CV] END .......................C=100.0, gamma=1, kernel=rbf; total time=   0.0s\n",
            "[CV] END .......................C=100.0, gamma=1, kernel=rbf; total time=   0.0s\n",
            "[CV] END ..................C=100.0, gamma=0.1, kernel=linear; total time=   1.2s\n",
            "[CV] END ..................C=100.0, gamma=0.1, kernel=linear; total time=   0.7s\n",
            "[CV] END ..................C=100.0, gamma=0.1, kernel=linear; total time=   0.8s\n",
            "[CV] END ..................C=100.0, gamma=0.1, kernel=linear; total time=   1.6s\n",
            "[CV] END ..................C=100.0, gamma=0.1, kernel=linear; total time=   1.0s\n",
            "[CV] END .....................C=100.0, gamma=0.1, kernel=rbf; total time=   0.0s\n",
            "[CV] END .....................C=100.0, gamma=0.1, kernel=rbf; total time=   0.0s\n",
            "[CV] END .....................C=100.0, gamma=0.1, kernel=rbf; total time=   0.0s\n",
            "[CV] END .....................C=100.0, gamma=0.1, kernel=rbf; total time=   0.0s\n",
            "[CV] END .....................C=100.0, gamma=0.1, kernel=rbf; total time=   0.0s\n",
            "[CV] END .................C=100.0, gamma=0.01, kernel=linear; total time=   1.2s\n",
            "[CV] END .................C=100.0, gamma=0.01, kernel=linear; total time=   0.6s\n",
            "[CV] END .................C=100.0, gamma=0.01, kernel=linear; total time=   0.7s\n",
            "[CV] END .................C=100.0, gamma=0.01, kernel=linear; total time=   1.6s\n",
            "[CV] END .................C=100.0, gamma=0.01, kernel=linear; total time=   1.0s\n",
            "[CV] END ....................C=100.0, gamma=0.01, kernel=rbf; total time=   0.0s\n",
            "[CV] END ....................C=100.0, gamma=0.01, kernel=rbf; total time=   0.0s\n",
            "[CV] END ....................C=100.0, gamma=0.01, kernel=rbf; total time=   0.0s\n",
            "[CV] END ....................C=100.0, gamma=0.01, kernel=rbf; total time=   0.0s\n",
            "[CV] END ....................C=100.0, gamma=0.01, kernel=rbf; total time=   0.0s\n",
            "[CV] END ...................C=1000.0, gamma=1, kernel=linear; total time=   6.7s\n",
            "[CV] END ...................C=1000.0, gamma=1, kernel=linear; total time=   5.5s\n",
            "[CV] END ...................C=1000.0, gamma=1, kernel=linear; total time=   6.2s\n",
            "[CV] END ...................C=1000.0, gamma=1, kernel=linear; total time=   5.6s\n",
            "[CV] END ...................C=1000.0, gamma=1, kernel=linear; total time=   8.1s\n",
            "[CV] END ......................C=1000.0, gamma=1, kernel=rbf; total time=   0.0s\n",
            "[CV] END ......................C=1000.0, gamma=1, kernel=rbf; total time=   0.0s\n",
            "[CV] END ......................C=1000.0, gamma=1, kernel=rbf; total time=   0.0s\n",
            "[CV] END ......................C=1000.0, gamma=1, kernel=rbf; total time=   0.0s\n",
            "[CV] END ......................C=1000.0, gamma=1, kernel=rbf; total time=   0.0s\n",
            "[CV] END .................C=1000.0, gamma=0.1, kernel=linear; total time=   5.5s\n",
            "[CV] END .................C=1000.0, gamma=0.1, kernel=linear; total time=   5.6s\n",
            "[CV] END .................C=1000.0, gamma=0.1, kernel=linear; total time=   5.6s\n",
            "[CV] END .................C=1000.0, gamma=0.1, kernel=linear; total time=   5.7s\n",
            "[CV] END .................C=1000.0, gamma=0.1, kernel=linear; total time=   8.1s\n",
            "[CV] END ....................C=1000.0, gamma=0.1, kernel=rbf; total time=   0.0s\n",
            "[CV] END ....................C=1000.0, gamma=0.1, kernel=rbf; total time=   0.0s\n",
            "[CV] END ....................C=1000.0, gamma=0.1, kernel=rbf; total time=   0.0s\n",
            "[CV] END ....................C=1000.0, gamma=0.1, kernel=rbf; total time=   0.0s\n",
            "[CV] END ....................C=1000.0, gamma=0.1, kernel=rbf; total time=   0.0s\n",
            "[CV] END ................C=1000.0, gamma=0.01, kernel=linear; total time=   5.6s\n",
            "[CV] END ................C=1000.0, gamma=0.01, kernel=linear; total time=   6.5s\n",
            "[CV] END ................C=1000.0, gamma=0.01, kernel=linear; total time=   5.4s\n",
            "[CV] END ................C=1000.0, gamma=0.01, kernel=linear; total time=   5.6s\n",
            "[CV] END ................C=1000.0, gamma=0.01, kernel=linear; total time=   8.1s\n",
            "[CV] END ...................C=1000.0, gamma=0.01, kernel=rbf; total time=   0.0s\n",
            "[CV] END ...................C=1000.0, gamma=0.01, kernel=rbf; total time=   0.0s\n",
            "[CV] END ...................C=1000.0, gamma=0.01, kernel=rbf; total time=   0.0s\n",
            "[CV] END ...................C=1000.0, gamma=0.01, kernel=rbf; total time=   0.0s\n",
            "[CV] END ...................C=1000.0, gamma=0.01, kernel=rbf; total time=   0.0s\n"
          ]
        },
        {
          "output_type": "execute_result",
          "data": {
            "text/plain": [
              "GridSearchCV(estimator=SVC(),\n",
              "             param_grid={'C': [1.0, 10.0, 100.0, 1000.0],\n",
              "                         'gamma': [1, 0.1, 0.01], 'kernel': ('linear', 'rbf')},\n",
              "             verbose=2)"
            ]
          },
          "metadata": {},
          "execution_count": 13
        }
      ]
    },
    {
      "cell_type": "code",
      "source": [
        "svc_best_param = grid_model.best_params_\n",
        "print(\"Best params for SVM:\", svc_best_param)"
      ],
      "metadata": {
        "colab": {
          "base_uri": "https://localhost:8080/"
        },
        "id": "usE7YEJTnive",
        "outputId": "53af5d1b-bfeb-400d-a2bf-614403ead9e5"
      },
      "execution_count": 14,
      "outputs": [
        {
          "output_type": "stream",
          "name": "stdout",
          "text": [
            "Best params for SVM: {'C': 100.0, 'gamma': 0.1, 'kernel': 'rbf'}\n"
          ]
        }
      ]
    },
    {
      "cell_type": "code",
      "source": [
        "predict = grid_model.predict(testX)\n",
        "print(classification_report(testY,predict))\n",
        "print(confusion_matrix(testY, predict))"
      ],
      "metadata": {
        "colab": {
          "base_uri": "https://localhost:8080/"
        },
        "id": "wv-i5GWunw6A",
        "outputId": "a901e963-37e3-456b-a3e8-a42eab025908"
      },
      "execution_count": 15,
      "outputs": [
        {
          "output_type": "stream",
          "name": "stdout",
          "text": [
            "              precision    recall  f1-score   support\n",
            "\n",
            "           0       0.95      1.00      0.98       148\n",
            "           1       1.00      0.96      0.98       160\n",
            "\n",
            "    accuracy                           0.98       308\n",
            "   macro avg       0.98      0.98      0.98       308\n",
            "weighted avg       0.98      0.98      0.98       308\n",
            "\n",
            "[[148   0]\n",
            " [  7 153]]\n"
          ]
        }
      ]
    },
    {
      "cell_type": "code",
      "source": [
        "svc_accuracy_score = accuracy_score(testY, predict)\n",
        "print(\"Best accuracy for SVM:\", svc_accuracy_score)"
      ],
      "metadata": {
        "colab": {
          "base_uri": "https://localhost:8080/"
        },
        "id": "wlmpH0OzoSGi",
        "outputId": "e43885e0-b37a-46f1-d953-349f84b74d5d"
      },
      "execution_count": 16,
      "outputs": [
        {
          "output_type": "stream",
          "name": "stdout",
          "text": [
            "Best accuracy for SVM: 0.9772727272727273\n"
          ]
        }
      ]
    },
    {
      "cell_type": "code",
      "source": [
        "print(data.columns)"
      ],
      "metadata": {
        "colab": {
          "base_uri": "https://localhost:8080/"
        },
        "id": "NdVUkmDRpsyc",
        "outputId": "50f18baf-59d5-4273-974a-dd5c9e7d5244"
      },
      "execution_count": 17,
      "outputs": [
        {
          "output_type": "stream",
          "name": "stdout",
          "text": [
            "Index(['age', 'sex', 'cp', 'trestbps', 'chol', 'fbs', 'restecg', 'thalach',\n",
            "       'exang', 'oldpeak', 'slope', 'ca', 'thal', 'target'],\n",
            "      dtype='object')\n"
          ]
        }
      ]
    },
    {
      "cell_type": "code",
      "source": [
        "heart_data2=data.drop(['age','trestbps','chol','fbs','oldpeak'],axis=1)"
      ],
      "metadata": {
        "id": "kKgAwl-moSu2"
      },
      "execution_count": 18,
      "outputs": []
    },
    {
      "cell_type": "code",
      "source": [
        "y=heart_data2['target']\n",
        "x=heart_data2.drop('target',axis=1)"
      ],
      "metadata": {
        "id": "UpV7BtoSqUjB"
      },
      "execution_count": 19,
      "outputs": []
    },
    {
      "cell_type": "code",
      "source": [
        "print(x)"
      ],
      "metadata": {
        "colab": {
          "base_uri": "https://localhost:8080/"
        },
        "id": "2qTbcFV8qlPQ",
        "outputId": "e6561e4b-7b75-40d8-c5b4-c9ad39d7b865"
      },
      "execution_count": 20,
      "outputs": [
        {
          "output_type": "stream",
          "name": "stdout",
          "text": [
            "      sex  cp  restecg  thalach  exang  slope  ca  thal\n",
            "0       1   0        1      168      0      2   2     3\n",
            "1       1   0        0      155      1      0   0     3\n",
            "2       1   0        1      125      1      0   0     3\n",
            "3       1   0        1      161      0      2   1     3\n",
            "4       0   0        1      106      0      1   3     2\n",
            "...   ...  ..      ...      ...    ...    ...  ..   ...\n",
            "1020    1   1        1      164      1      2   0     2\n",
            "1021    1   0        0      141      1      1   1     3\n",
            "1022    1   0        0      118      1      1   1     2\n",
            "1023    0   0        0      159      0      2   0     2\n",
            "1024    1   0        1      113      0      1   1     3\n",
            "\n",
            "[1025 rows x 8 columns]\n"
          ]
        }
      ]
    },
    {
      "cell_type": "code",
      "source": [
        "print(y)"
      ],
      "metadata": {
        "colab": {
          "base_uri": "https://localhost:8080/"
        },
        "id": "mim_97IVqmr5",
        "outputId": "df13497d-871d-4541-b809-bbf88a31411b"
      },
      "execution_count": 21,
      "outputs": [
        {
          "output_type": "stream",
          "name": "stdout",
          "text": [
            "0       0\n",
            "1       0\n",
            "2       0\n",
            "3       0\n",
            "4       0\n",
            "       ..\n",
            "1020    1\n",
            "1021    0\n",
            "1022    0\n",
            "1023    1\n",
            "1024    0\n",
            "Name: target, Length: 1025, dtype: int64\n"
          ]
        }
      ]
    },
    {
      "cell_type": "code",
      "source": [
        "std_scaler = StandardScaler()"
      ],
      "metadata": {
        "id": "ZdIZDKXBqoDt"
      },
      "execution_count": 22,
      "outputs": []
    },
    {
      "cell_type": "code",
      "source": [
        "(trainX, testX, trainY, testY) = train_test_split(x,y, test_size=0.3, random_state=101)\n",
        "trainX=std_scaler.fit_transform(trainX)\n",
        "testX=std_scaler.transform(testX)"
      ],
      "metadata": {
        "id": "rNUFVWX4qvNx"
      },
      "execution_count": 23,
      "outputs": []
    },
    {
      "cell_type": "code",
      "source": [
        "parameters = {'kernel':('linear', 'rbf'), 'C':[1.0, 10.0, 100.0, 1000.0],'gamma':[1,0.1,0.01]}\n",
        "model = svm.SVC()\n",
        "grid_model = GridSearchCV(model, parameters, verbose=2)\n",
        "grid_model.fit(trainX, trainY)"
      ],
      "metadata": {
        "colab": {
          "base_uri": "https://localhost:8080/"
        },
        "id": "f7T0dFcZq-Eq",
        "outputId": "587c7e47-acbe-45b4-cf99-a5d0bf8c3673"
      },
      "execution_count": 24,
      "outputs": [
        {
          "output_type": "stream",
          "name": "stdout",
          "text": [
            "Fitting 5 folds for each of 24 candidates, totalling 120 fits\n",
            "[CV] END ......................C=1.0, gamma=1, kernel=linear; total time=   0.0s\n",
            "[CV] END ......................C=1.0, gamma=1, kernel=linear; total time=   0.0s\n",
            "[CV] END ......................C=1.0, gamma=1, kernel=linear; total time=   0.0s\n",
            "[CV] END ......................C=1.0, gamma=1, kernel=linear; total time=   0.0s\n",
            "[CV] END ......................C=1.0, gamma=1, kernel=linear; total time=   0.0s\n",
            "[CV] END .........................C=1.0, gamma=1, kernel=rbf; total time=   0.0s\n",
            "[CV] END .........................C=1.0, gamma=1, kernel=rbf; total time=   0.0s\n",
            "[CV] END .........................C=1.0, gamma=1, kernel=rbf; total time=   0.0s\n",
            "[CV] END .........................C=1.0, gamma=1, kernel=rbf; total time=   0.0s\n",
            "[CV] END .........................C=1.0, gamma=1, kernel=rbf; total time=   0.0s\n",
            "[CV] END ....................C=1.0, gamma=0.1, kernel=linear; total time=   0.0s\n",
            "[CV] END ....................C=1.0, gamma=0.1, kernel=linear; total time=   0.0s\n",
            "[CV] END ....................C=1.0, gamma=0.1, kernel=linear; total time=   0.0s\n",
            "[CV] END ....................C=1.0, gamma=0.1, kernel=linear; total time=   0.0s\n",
            "[CV] END ....................C=1.0, gamma=0.1, kernel=linear; total time=   0.0s\n",
            "[CV] END .......................C=1.0, gamma=0.1, kernel=rbf; total time=   0.0s\n",
            "[CV] END .......................C=1.0, gamma=0.1, kernel=rbf; total time=   0.0s\n",
            "[CV] END .......................C=1.0, gamma=0.1, kernel=rbf; total time=   0.0s\n",
            "[CV] END .......................C=1.0, gamma=0.1, kernel=rbf; total time=   0.0s\n",
            "[CV] END .......................C=1.0, gamma=0.1, kernel=rbf; total time=   0.0s\n",
            "[CV] END ...................C=1.0, gamma=0.01, kernel=linear; total time=   0.0s\n",
            "[CV] END ...................C=1.0, gamma=0.01, kernel=linear; total time=   0.0s\n",
            "[CV] END ...................C=1.0, gamma=0.01, kernel=linear; total time=   0.0s\n",
            "[CV] END ...................C=1.0, gamma=0.01, kernel=linear; total time=   0.0s\n",
            "[CV] END ...................C=1.0, gamma=0.01, kernel=linear; total time=   0.0s\n",
            "[CV] END ......................C=1.0, gamma=0.01, kernel=rbf; total time=   0.0s\n",
            "[CV] END ......................C=1.0, gamma=0.01, kernel=rbf; total time=   0.0s\n",
            "[CV] END ......................C=1.0, gamma=0.01, kernel=rbf; total time=   0.0s\n",
            "[CV] END ......................C=1.0, gamma=0.01, kernel=rbf; total time=   0.0s\n",
            "[CV] END ......................C=1.0, gamma=0.01, kernel=rbf; total time=   0.0s\n",
            "[CV] END .....................C=10.0, gamma=1, kernel=linear; total time=   0.0s\n",
            "[CV] END .....................C=10.0, gamma=1, kernel=linear; total time=   0.0s\n",
            "[CV] END .....................C=10.0, gamma=1, kernel=linear; total time=   0.0s\n",
            "[CV] END .....................C=10.0, gamma=1, kernel=linear; total time=   0.0s\n",
            "[CV] END .....................C=10.0, gamma=1, kernel=linear; total time=   0.0s\n",
            "[CV] END ........................C=10.0, gamma=1, kernel=rbf; total time=   0.0s\n",
            "[CV] END ........................C=10.0, gamma=1, kernel=rbf; total time=   0.0s\n",
            "[CV] END ........................C=10.0, gamma=1, kernel=rbf; total time=   0.0s\n",
            "[CV] END ........................C=10.0, gamma=1, kernel=rbf; total time=   0.0s\n",
            "[CV] END ........................C=10.0, gamma=1, kernel=rbf; total time=   0.0s\n",
            "[CV] END ...................C=10.0, gamma=0.1, kernel=linear; total time=   0.0s\n",
            "[CV] END ...................C=10.0, gamma=0.1, kernel=linear; total time=   0.0s\n",
            "[CV] END ...................C=10.0, gamma=0.1, kernel=linear; total time=   0.0s\n",
            "[CV] END ...................C=10.0, gamma=0.1, kernel=linear; total time=   0.1s\n",
            "[CV] END ...................C=10.0, gamma=0.1, kernel=linear; total time=   0.1s\n",
            "[CV] END ......................C=10.0, gamma=0.1, kernel=rbf; total time=   0.0s\n",
            "[CV] END ......................C=10.0, gamma=0.1, kernel=rbf; total time=   0.0s\n",
            "[CV] END ......................C=10.0, gamma=0.1, kernel=rbf; total time=   0.0s\n",
            "[CV] END ......................C=10.0, gamma=0.1, kernel=rbf; total time=   0.0s\n",
            "[CV] END ......................C=10.0, gamma=0.1, kernel=rbf; total time=   0.0s\n",
            "[CV] END ..................C=10.0, gamma=0.01, kernel=linear; total time=   0.0s\n",
            "[CV] END ..................C=10.0, gamma=0.01, kernel=linear; total time=   0.0s\n",
            "[CV] END ..................C=10.0, gamma=0.01, kernel=linear; total time=   0.0s\n",
            "[CV] END ..................C=10.0, gamma=0.01, kernel=linear; total time=   0.0s\n",
            "[CV] END ..................C=10.0, gamma=0.01, kernel=linear; total time=   0.0s\n",
            "[CV] END .....................C=10.0, gamma=0.01, kernel=rbf; total time=   0.0s\n",
            "[CV] END .....................C=10.0, gamma=0.01, kernel=rbf; total time=   0.0s\n",
            "[CV] END .....................C=10.0, gamma=0.01, kernel=rbf; total time=   0.0s\n",
            "[CV] END .....................C=10.0, gamma=0.01, kernel=rbf; total time=   0.0s\n",
            "[CV] END .....................C=10.0, gamma=0.01, kernel=rbf; total time=   0.0s\n",
            "[CV] END ....................C=100.0, gamma=1, kernel=linear; total time=   0.2s\n",
            "[CV] END ....................C=100.0, gamma=1, kernel=linear; total time=   0.3s\n",
            "[CV] END ....................C=100.0, gamma=1, kernel=linear; total time=   0.2s\n",
            "[CV] END ....................C=100.0, gamma=1, kernel=linear; total time=   0.1s\n",
            "[CV] END ....................C=100.0, gamma=1, kernel=linear; total time=   0.2s\n",
            "[CV] END .......................C=100.0, gamma=1, kernel=rbf; total time=   0.0s\n",
            "[CV] END .......................C=100.0, gamma=1, kernel=rbf; total time=   0.0s\n",
            "[CV] END .......................C=100.0, gamma=1, kernel=rbf; total time=   0.0s\n",
            "[CV] END .......................C=100.0, gamma=1, kernel=rbf; total time=   0.0s\n",
            "[CV] END .......................C=100.0, gamma=1, kernel=rbf; total time=   0.0s\n",
            "[CV] END ..................C=100.0, gamma=0.1, kernel=linear; total time=   0.2s\n",
            "[CV] END ..................C=100.0, gamma=0.1, kernel=linear; total time=   0.3s\n",
            "[CV] END ..................C=100.0, gamma=0.1, kernel=linear; total time=   0.2s\n",
            "[CV] END ..................C=100.0, gamma=0.1, kernel=linear; total time=   0.1s\n",
            "[CV] END ..................C=100.0, gamma=0.1, kernel=linear; total time=   0.2s\n",
            "[CV] END .....................C=100.0, gamma=0.1, kernel=rbf; total time=   0.0s\n",
            "[CV] END .....................C=100.0, gamma=0.1, kernel=rbf; total time=   0.0s\n",
            "[CV] END .....................C=100.0, gamma=0.1, kernel=rbf; total time=   0.0s\n",
            "[CV] END .....................C=100.0, gamma=0.1, kernel=rbf; total time=   0.0s\n",
            "[CV] END .....................C=100.0, gamma=0.1, kernel=rbf; total time=   0.0s\n",
            "[CV] END .................C=100.0, gamma=0.01, kernel=linear; total time=   0.2s\n",
            "[CV] END .................C=100.0, gamma=0.01, kernel=linear; total time=   0.3s\n",
            "[CV] END .................C=100.0, gamma=0.01, kernel=linear; total time=   0.2s\n",
            "[CV] END .................C=100.0, gamma=0.01, kernel=linear; total time=   0.2s\n",
            "[CV] END .................C=100.0, gamma=0.01, kernel=linear; total time=   0.2s\n",
            "[CV] END ....................C=100.0, gamma=0.01, kernel=rbf; total time=   0.0s\n",
            "[CV] END ....................C=100.0, gamma=0.01, kernel=rbf; total time=   0.0s\n",
            "[CV] END ....................C=100.0, gamma=0.01, kernel=rbf; total time=   0.0s\n",
            "[CV] END ....................C=100.0, gamma=0.01, kernel=rbf; total time=   0.0s\n",
            "[CV] END ....................C=100.0, gamma=0.01, kernel=rbf; total time=   0.0s\n",
            "[CV] END ...................C=1000.0, gamma=1, kernel=linear; total time=   2.6s\n",
            "[CV] END ...................C=1000.0, gamma=1, kernel=linear; total time=   2.2s\n",
            "[CV] END ...................C=1000.0, gamma=1, kernel=linear; total time=   1.4s\n",
            "[CV] END ...................C=1000.0, gamma=1, kernel=linear; total time=   1.2s\n",
            "[CV] END ...................C=1000.0, gamma=1, kernel=linear; total time=   2.1s\n",
            "[CV] END ......................C=1000.0, gamma=1, kernel=rbf; total time=   0.0s\n",
            "[CV] END ......................C=1000.0, gamma=1, kernel=rbf; total time=   0.0s\n",
            "[CV] END ......................C=1000.0, gamma=1, kernel=rbf; total time=   0.0s\n",
            "[CV] END ......................C=1000.0, gamma=1, kernel=rbf; total time=   0.0s\n",
            "[CV] END ......................C=1000.0, gamma=1, kernel=rbf; total time=   0.0s\n",
            "[CV] END .................C=1000.0, gamma=0.1, kernel=linear; total time=   2.5s\n",
            "[CV] END .................C=1000.0, gamma=0.1, kernel=linear; total time=   2.1s\n",
            "[CV] END .................C=1000.0, gamma=0.1, kernel=linear; total time=   1.4s\n",
            "[CV] END .................C=1000.0, gamma=0.1, kernel=linear; total time=   1.2s\n",
            "[CV] END .................C=1000.0, gamma=0.1, kernel=linear; total time=   2.1s\n",
            "[CV] END ....................C=1000.0, gamma=0.1, kernel=rbf; total time=   0.0s\n",
            "[CV] END ....................C=1000.0, gamma=0.1, kernel=rbf; total time=   0.0s\n",
            "[CV] END ....................C=1000.0, gamma=0.1, kernel=rbf; total time=   0.0s\n",
            "[CV] END ....................C=1000.0, gamma=0.1, kernel=rbf; total time=   0.0s\n",
            "[CV] END ....................C=1000.0, gamma=0.1, kernel=rbf; total time=   0.0s\n",
            "[CV] END ................C=1000.0, gamma=0.01, kernel=linear; total time=   2.5s\n",
            "[CV] END ................C=1000.0, gamma=0.01, kernel=linear; total time=   2.2s\n",
            "[CV] END ................C=1000.0, gamma=0.01, kernel=linear; total time=   1.4s\n",
            "[CV] END ................C=1000.0, gamma=0.01, kernel=linear; total time=   1.3s\n",
            "[CV] END ................C=1000.0, gamma=0.01, kernel=linear; total time=   2.1s\n",
            "[CV] END ...................C=1000.0, gamma=0.01, kernel=rbf; total time=   0.0s\n",
            "[CV] END ...................C=1000.0, gamma=0.01, kernel=rbf; total time=   0.0s\n",
            "[CV] END ...................C=1000.0, gamma=0.01, kernel=rbf; total time=   0.1s\n",
            "[CV] END ...................C=1000.0, gamma=0.01, kernel=rbf; total time=   0.0s\n",
            "[CV] END ...................C=1000.0, gamma=0.01, kernel=rbf; total time=   0.1s\n"
          ]
        },
        {
          "output_type": "execute_result",
          "data": {
            "text/plain": [
              "GridSearchCV(estimator=SVC(),\n",
              "             param_grid={'C': [1.0, 10.0, 100.0, 1000.0],\n",
              "                         'gamma': [1, 0.1, 0.01], 'kernel': ('linear', 'rbf')},\n",
              "             verbose=2)"
            ]
          },
          "metadata": {},
          "execution_count": 24
        }
      ]
    },
    {
      "cell_type": "code",
      "source": [
        "svc_best_param = grid_model.best_params_\n",
        "print(\"Best params for SVM:\", svc_best_param)"
      ],
      "metadata": {
        "colab": {
          "base_uri": "https://localhost:8080/"
        },
        "id": "cWFAo6i6rVty",
        "outputId": "e3972d2f-7f05-46a8-ae75-2a118d1842d6"
      },
      "execution_count": 25,
      "outputs": [
        {
          "output_type": "stream",
          "name": "stdout",
          "text": [
            "Best params for SVM: {'C': 1000.0, 'gamma': 1, 'kernel': 'rbf'}\n"
          ]
        }
      ]
    },
    {
      "cell_type": "code",
      "source": [
        "predict = grid_model.predict(testX)\n",
        "print(classification_report(testY,predict))\n",
        "print(confusion_matrix(testY, predict))"
      ],
      "metadata": {
        "colab": {
          "base_uri": "https://localhost:8080/"
        },
        "id": "M_fB7iDZrdXI",
        "outputId": "b4fd7de9-416e-4f4c-8c38-01309c69ef95"
      },
      "execution_count": 26,
      "outputs": [
        {
          "output_type": "stream",
          "name": "stdout",
          "text": [
            "              precision    recall  f1-score   support\n",
            "\n",
            "           0       0.99      1.00      1.00       148\n",
            "           1       1.00      0.99      1.00       160\n",
            "\n",
            "    accuracy                           1.00       308\n",
            "   macro avg       1.00      1.00      1.00       308\n",
            "weighted avg       1.00      1.00      1.00       308\n",
            "\n",
            "[[148   0]\n",
            " [  1 159]]\n"
          ]
        }
      ]
    },
    {
      "cell_type": "code",
      "source": [
        "svc_accuracy_score = accuracy_score(testY, predict)\n",
        "print(\"Best accuracy for SVM:\", svc_accuracy_score)"
      ],
      "metadata": {
        "colab": {
          "base_uri": "https://localhost:8080/"
        },
        "id": "yfsIocRgrohi",
        "outputId": "a9f124e5-f9ad-4add-dfe0-5f79af0e342e"
      },
      "execution_count": 27,
      "outputs": [
        {
          "output_type": "stream",
          "name": "stdout",
          "text": [
            "Best accuracy for SVM: 0.9967532467532467\n"
          ]
        }
      ]
    },
    {
      "cell_type": "code",
      "source": [
        "from sklearn.metrics import roc_curve\n",
        "fpr, tpr, thresholds = roc_curve(testY, predict)\n",
        "plt.plot(fpr,tpr)\n",
        "plt.xlim([0.0, 1.0])\n",
        "plt.ylim([0.0, 1.0])\n",
        "plt.title('ROC curve for Heart disease classifier')\n",
        "plt.xlabel('False positive rate (1-Specificity)')\n",
        "plt.ylabel('True positive rate (Sensitivity)')\n",
        "plt.grid(True)"
      ],
      "metadata": {
        "colab": {
          "base_uri": "https://localhost:8080/",
          "height": 295
        },
        "id": "aFjgLfxqruZr",
        "outputId": "c3d3a08c-7436-4304-d4cb-e4e61a74d8d2"
      },
      "execution_count": 29,
      "outputs": [
        {
          "output_type": "display_data",
          "data": {
            "text/plain": [
              "<Figure size 432x288 with 1 Axes>"
            ],
            "image/png": "[encoded data removed]"
          },
          "metadata": {
            "needs_background": "light"
          }
        }
      ]
    },
    {
      "cell_type": "code",
      "source": [
        "import sklearn\n",
        "sklearn.metrics.roc_auc_score(testY,predict)"
      ],
      "metadata": {
        "colab": {
          "base_uri": "https://localhost:8080/"
        },
        "id": "08dvDn0ouj96",
        "outputId": "d8d9afb2-9769-4416-97ae-077989e047f7"
      },
      "execution_count": 30,
      "outputs": [
        {
          "output_type": "execute_result",
          "data": {
            "text/plain": [
              "0.996875"
            ]
          },
          "metadata": {},
          "execution_count": 30
        }
      ]
    },
    {
      "cell_type": "code",
      "source": [
        "c_data=pd.read_csv(\"heart_cleveland_upload.csv\")"
      ],
      "metadata": {
        "id": "zTjUV9U5uw80"
      },
      "execution_count": 35,
      "outputs": []
    },
    {
      "cell_type": "code",
      "source": [
        "c_data['condition'].value_counts()"
      ],
      "metadata": {
        "colab": {
          "base_uri": "https://localhost:8080/"
        },
        "outputId": "ed1db73d-969c-44af-f26e-887619adc512",
        "id": "vW86tnn_QxpW"
      },
      "execution_count": 37,
      "outputs": [
        {
          "output_type": "execute_result",
          "data": {
            "text/plain": [
              "0    160\n",
              "1    137\n",
              "Name: condition, dtype: int64"
            ]
          },
          "metadata": {},
          "execution_count": 37
        }
      ]
    },
    {
      "cell_type": "code",
      "source": [
        "y = c_data['condition'].copy()\n",
        "#y = np.array(y, dtype='float32')\n",
        "x = c_data.drop('condition', axis=1).copy()\n",
        "x = np.array(x, dtype='float32')"
      ],
      "metadata": {
        "id": "4EeEBPZgQzle"
      },
      "execution_count": 39,
      "outputs": []
    },
    {
      "cell_type": "code",
      "source": [
        "std_scaler = StandardScaler()"
      ],
      "metadata": {
        "id": "vQQyLziCSwqx"
      },
      "execution_count": 40,
      "outputs": []
    },
    {
      "cell_type": "code",
      "source": [
        "(trainX, testX, trainY, testY) = train_test_split(x,\n",
        "    y, test_size=0.3, random_state=101)\n",
        "\n",
        "trainX=std_scaler.fit_transform(trainX)\n",
        "testX=std_scaler.transform(testX)"
      ],
      "metadata": {
        "id": "VTUZH-Z3TGHk"
      },
      "execution_count": 41,
      "outputs": []
    },
    {
      "cell_type": "code",
      "source": [
        "parameters = {'kernel':('linear', 'rbf'), 'C':[1.0, 10.0, 100.0, 1000.0],\n",
        "              'gamma':[1,0.1,0.01]}"
      ],
      "metadata": {
        "id": "bd0XymiMTORs"
      },
      "execution_count": 42,
      "outputs": []
    },
    {
      "cell_type": "code",
      "source": [
        ""
      ],
      "metadata": {
        "id": "m_B8P2z9TVwy"
      },
      "execution_count": null,
      "outputs": []
    }
  ]
}